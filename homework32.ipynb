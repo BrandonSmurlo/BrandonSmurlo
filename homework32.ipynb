{
 "cells": [
  {
   "cell_type": "code",
   "execution_count": null,
   "metadata": {},
   "outputs": [],
   "source": [
    "def organize_plants_by_conditions():\n",
    "    # Creating a dictionary to hold plant types based on their growing conditions\n",
    "    plants_by_condition = {\n",
    "        \"Full Sun\": [\n",
    "            \"Sunflower\",\n",
    "            \"Lavender\",\n",
    "            \"Cacti\"\n",
    "        ],\n",
    "        \"Partial Shade\": [\n",
    "            \"Hosta\",\n",
    "            \"Astilbe\",\n",
    "            \"Japanese Maple\"\n",
    "        ],\n",
    "        \"Full Shade\": [\n",
    "            \"Ferns\",\n",
    "            \"Moss\",\n",
    "            \"Toad Lily\"\n",
    "        ],\n",
    "        \"Low Water\": [\n",
    "            \"Succulents\",\n",
    "            \"Agave\",\n",
    "            \"Sedum\"\n",
    "        ],\n",
    "        \"High Water\": [\n",
    "            \"Water Lilies\",\n",
    "            \"Bamboo\",\n",
    "            \"Cattails\"\n",
    "        ]\n",
    "    }\n",
    "\n",
    "    # Display the organized plants by growing conditions\n",
    "    print(\"Plants Organized by Growing Conditions:\\n\")\n",
    "    for condition, plants in plants_by_condition.items():\n",
    "        print(f\"{condition}:\")\n",
    "        for plant in plants:\n",
    "            print(f\"  - {plant}\")\n",
    "        print()  # Add a blank line for better readability\n",
    "\n",
    "# Call the function to display the organized plants\n",
    "organize_plants_by_conditions()\n"
   ]
  }
 ],
 "metadata": {
  "language_info": {
   "name": "python"
  }
 },
 "nbformat": 4,
 "nbformat_minor": 2
}
