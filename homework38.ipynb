{
 "cells": [
  {
   "cell_type": "code",
   "execution_count": 1,
   "metadata": {},
   "outputs": [],
   "source": [
    "def positive_number_checker():\n",
    "    while True:\n",
    "        user_input = input(\"Please enter a number: \")\n",
    "        \n",
    "        # Input validation: Check if the input is a number\n",
    "        try:\n",
    "            number = float(user_input)  # Convert input to float\n",
    "        except ValueError:\n",
    "            print(\"Error: That's not a valid number. Please try again.\")\n",
    "            continue  # Prompt the user again\n",
    "        \n",
    "        # Positive checker\n",
    "        if number > 0:\n",
    "            print(f\"Success! You entered a positive number: {number}\")\n",
    "            break  # Exit the loop if a positive number is entered\n",
    "        else:\n",
    "            print(\"Try again! The number must be positive.\")\n",
    "\n",
    "# Call the function to run the positive number checker\n",
    "positive_number_checker()\n"
   ]
  }
 ],
 "metadata": {
  "kernelspec": {
   "display_name": ".venv",
   "language": "python",
   "name": "python3"
  },
  "language_info": {
   "codemirror_mode": {
    "name": "ipython",
    "version": 3
   },
   "file_extension": ".py",
   "mimetype": "text/x-python",
   "name": "python",
   "nbconvert_exporter": "python",
   "pygments_lexer": "ipython3",
   "version": "3.12.7"
  }
 },
 "nbformat": 4,
 "nbformat_minor": 2
}
